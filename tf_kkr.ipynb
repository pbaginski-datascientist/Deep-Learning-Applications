{
 "cells": [
  {
   "cell_type": "code",
   "execution_count": 141,
   "metadata": {},
   "outputs": [
    {
     "data": {
      "text/plain": [
       "\"\\nExperiment Design (Tensor Design)\\n\\n- Ticks (BLK, CG, APO, KKR (Y), 'US10Y','WTI_Crude', SP500, NQ)\\n- News (BLK, CG, APO, KKR)\\n- 2 consecutive years\\n- Close/Polarity\\n- Ticks (All large cap US in fin serv, all PE, 5-8 indicators, News on all ticks, Open/Close/High/Low/MACD/EMA/CCR/Polarity)\\n- Tensor would be # Tickers X # days X # Values\\n\\n- Ticks and News from Intrinio / Technicals from Alpha Vantage\\n\""
      ]
     },
     "execution_count": 141,
     "metadata": {},
     "output_type": "execute_result"
    }
   ],
   "source": [
    "'''\n",
    "Experiment Design (Tensor Design)\n",
    "\n",
    "- Ticks (BLK, CG, APO, KKR (Y), 'US10Y','WTI_Crude', SP500, NQ)\n",
    "- News (BLK, CG, APO, KKR)\n",
    "- 2 consecutive years\n",
    "- Close/Polarity\n",
    "- Ticks (All large cap US in fin serv, all PE, 5-8 indicators, News on all ticks, Open/Close/High/Low/MACD/EMA/CCR/Polarity)\n",
    "- Tensor would be # Tickers X # days X # Values\n",
    "\n",
    "- Ticks and News from Intrinio / Technicals from Alpha Vantage\n",
    "'''\n",
    "\n",
    "### Question for modeling purposes ###\n",
    "\n",
    "### Input data\n",
    "# How to shape the input data in terms of columns and rows?\n",
    "# How to deal with missing days, holidays and weekends?\n",
    "# Scale/normalize/one-hot-encode? How to treat number sequences, especially when prices / indices / percentage changes\n",
    "# Prices need conversion to relative? Or need convert to 1 for increase or 0 for decrease?\n",
    "# Input shape for wavelet? input shape for autoencoder? input shape for LSTM?\n",
    "# Alternatives for wavelet--->make stationary?\n",
    "# Split between train and validate? Scaling/Normalizing validate set?\n",
    "# Outputs: how to read output? in terms of prob? in terms of change?\n",
    "# Some plots for the tutorial: Sentiment vs Price? Price alone, Sentiment alone\n",
    "# Wavelet decomposition plot\n",
    "# auto encoder picture\n",
    "# LSTM picture\n",
    "# Final network\n",
    "\n"
   ]
  },
  {
   "cell_type": "code",
   "execution_count": 3,
   "metadata": {
    "collapsed": true
   },
   "outputs": [],
   "source": [
    "import numpy as np\n",
    "import pandas as pd\n",
    "import matplotlib.pyplot as plt\n",
    "import pysentiment as pt\n",
    "from datetime import datetime\n",
    "from sklearn.preprocessing import MinMaxScaler\n",
    "import pywt as pywt\n",
    "import tensorflow as tf\n",
    "from keras.models import Sequential\n",
    "from keras.layers import Dense\n",
    "from keras.layers import LSTM\n",
    "from sklearn.metrics import mean_squared_error\n",
    "import math"
   ]
  },
  {
   "cell_type": "code",
   "execution_count": 5,
   "metadata": {
    "collapsed": true
   },
   "outputs": [],
   "source": [
    "news = pd.read_csv('/Users/patrickbaginski/PycharmProjects/untitled/data/news.csv')\n",
    "news = news.drop_duplicates('TITLE', keep=False)\n",
    "news = news.drop(columns=['URL'])"
   ]
  },
  {
   "cell_type": "code",
   "execution_count": 6,
   "metadata": {},
   "outputs": [],
   "source": [
    "lm = pt.LM()\n",
    "news['SUMMARY_SCORES'] = news.SUMMARY.map(lambda x: lm.get_score(lm.tokenize(str(x))))\n",
    "news['POLARITY'] = news['SUMMARY_SCORES'].map(lambda x: x['Polarity'])"
   ]
  },
  {
   "cell_type": "code",
   "execution_count": 7,
   "metadata": {},
   "outputs": [],
   "source": [
    "news['PUBLICATION_DATE'] = pd.to_datetime(news['PUBLICATION_DATE'])\n",
    "d = datetime.now()\n",
    "only_date, only_time = d.date(), d.time()\n",
    "news['DATE'] = [d.date() for d in news['PUBLICATION_DATE']]\n",
    "news['DATE'] = pd.to_datetime(news['DATE'])\n",
    "news_cleaned = news.groupby(['DATE','TICKER'], as_index=False).agg({'POLARITY':'sum'})"
   ]
  },
  {
   "cell_type": "code",
   "execution_count": 8,
   "metadata": {},
   "outputs": [],
   "source": [
    "prices = pd.read_csv('/Users/patrickbaginski/PycharmProjects/untitled/data/prices.csv')\n",
    "prices['DATE'] = pd.to_datetime(prices['DATE'])\n",
    "prices['DATES'] = [d.date() for d in prices['DATE']]\n",
    "prices['DATES'] = pd.to_datetime(prices['DATES'])\n",
    "prices_clean = prices.drop(columns='DATE')"
   ]
  },
  {
   "cell_type": "code",
   "execution_count": 9,
   "metadata": {},
   "outputs": [],
   "source": [
    "df = pd.merge(prices_clean, news_cleaned, left_on=['DATES','TICKER'], right_on=['DATE','TICKER'], how='left')\n",
    "df = df.drop(columns=['DATE'])\n",
    "df['POLARITY'] = df['POLARITY'].fillna(0)"
   ]
  },
  {
   "cell_type": "code",
   "execution_count": 12,
   "metadata": {
    "collapsed": true
   },
   "outputs": [
    {
     "data": {
      "text/plain": [
       "\"df.DATES.apply(lambda dt: dt.date()).groupby([df.TICKER, df.DATES.apply(lambda dt: dt.year)]).nunique()\\n\\ndf.groupby('TICKER')['CLOSE_PRICE','POLARITY'].agg('count')\\n\\ndf[df.isnull().any(axis=1)]\""
      ]
     },
     "execution_count": 12,
     "metadata": {},
     "output_type": "execute_result"
    }
   ],
   "source": [
    "### Let's look at the dates and values and see if there are any missing ones.\n",
    "\n",
    "'''df.DATES.apply(lambda dt: dt.date()).groupby([df.TICKER, df.DATES.apply(lambda dt: dt.year)]).nunique()\n",
    "\n",
    "df.groupby('TICKER')['CLOSE_PRICE','POLARITY'].agg('count')\n",
    "\n",
    "df[df.isnull().any(axis=1)]'''\n"
   ]
  },
  {
   "cell_type": "code",
   "execution_count": 11,
   "metadata": {
    "collapsed": true
   },
   "outputs": [
    {
     "name": "stderr",
     "output_type": "stream",
     "text": [
      "/anaconda2/lib/python2.7/site-packages/ipykernel_launcher.py:5: SettingWithCopyWarning: \nA value is trying to be set on a copy of a slice from a DataFrame.\nTry using .loc[row_indexer,col_indexer] = value instead\n\nSee the caveats in the documentation: http://pandas.pydata.org/pandas-docs/stable/indexing.html#indexing-view-versus-copy\n  \"\"\"\n"
     ]
    }
   ],
   "source": [
    "# Our check's show that there are 40 missing close prices mostly for the holidays for US10Y and WTI (dates that do not exist in our stock price time series). We can safely drop those as we do not posess them either for our prices, nor do the prices in after trading change much during a holiday.\n",
    "\n",
    "df_a = df.loc[df['DATES'].isin(df['DATES'].where(df['TICKER']=='KKR'))]\n",
    "df_b = df_a.loc[df['DATES'].isin(df['DATES'].where(df['DATES']<='2018-08-3'))]\n",
    "df_b['CLOSE_PRICE'] = df_b['CLOSE_PRICE'].fillna(method='ffill')\n",
    "\n"
   ]
  },
  {
   "cell_type": "code",
   "execution_count": 12,
   "metadata": {},
   "outputs": [],
   "source": [
    "# Checking if the clean-up produced the desired result. Remaining question: US10 is yield in %, whereas rest is in USD. How to treat this?\n",
    "\n",
    "df_clean = df_b\n",
    "df_clean.groupby('TICKER')['CLOSE_PRICE','POLARITY'].agg('count')\n",
    "df_clean.to_csv('/Users/patrickbaginski/PycharmProjects/untitled/data/df_clean.csv')\n",
    "\n"
   ]
  },
  {
   "cell_type": "code",
   "execution_count": 13,
   "metadata": {
    "collapsed": false
   },
   "outputs": [
    {
     "data": {
      "image/png": "[encoded data removed]",
      "text/plain": [
       "<Figure size 432x288 with 2 Axes>"
      ]
     },
     "metadata": {},
     "output_type": "display_data"
    }
   ],
   "source": [
    "### Let's plot 2017 data to check for gaps\n",
    "import matplotlib.dates as mdates\n",
    "%matplotlib inline\n",
    "\n",
    "blk = df_clean.loc[(df_clean['TICKER'] == 'BLK') & ((df_clean['DATES'] <= '2018-07-27') & (df_clean['DATES'] >='2018-07-16'))]\n",
    "\n",
    "fig, ax1 = plt.subplots()\n",
    "\n",
    "color_1 = 'tab:blue'\n",
    "color_2 = 'tab:red'\n",
    "\n",
    "ax1.set_xlabel('Date')\n",
    "ax1.set_ylabel('Price', color=color_1)\n",
    "ax1.plot(blk['DATES'], blk['CLOSE_PRICE'], color=color_1)\n",
    "ax1.tick_params(axis='y', labelcolor=color_1)\n",
    "\n",
    "ax2 = ax1.twinx()\n",
    "\n",
    "ax2.set_ylabel('News Polarity', color=color_2)\n",
    "ax2.plot(blk['DATES'], blk['POLARITY'], color=color_2)\n",
    "ax2.tick_params(axis='y', labelcolor=color_2)\n",
    "ax2.axhline(y=0, color='grey')\n",
    "\n",
    "plt.setp(ax1.get_xticklabels(), rotation=30, horizontalalignment='right')\n",
    "fig.tight_layout()\n",
    "\n",
    "plt.show()\n",
    "fig.savefig('fig1.png', dpi=300)"
   ]
  },
  {
   "cell_type": "code",
   "execution_count": 14,
   "metadata": {
    "collapsed": true
   },
   "outputs": [],
   "source": [
    "### Load the data, check for missing dates / We will ignore weekends and holidays, as prices (in after-trading) change only minimally.\n",
    "# However, we need to make sure that we have all dates for the two years for each of the input tickers and indices.\n",
    "\n",
    "# At this point, plot KKR price and polarity in comparison. Check for gaps in weekly data.\n",
    "\n",
    "df_prices = df_clean.pivot(index='DATES', columns='TICKER', values='CLOSE_PRICE')\n",
    "df_polarity = df_clean.pivot(index='DATES', columns='TICKER', values='POLARITY')\n",
    "\n",
    "for i in df_polarity.columns:\n",
    "    df_polarity.rename(columns={i: i+'_POL'}, inplace=True)\n",
    "\n",
    "final = pd.concat([df_prices, df_polarity],  axis=1).drop(columns=['WTI_POL','US10_POL','SP500_POL','NQ_POL'])\n",
    "\n",
    "final_label = final['KKR']\n",
    "\n",
    "\n"
   ]
  },
  {
   "cell_type": "code",
   "execution_count": 15,
   "metadata": {},
   "outputs": [],
   "source": [
    "### Split into train and validate\n",
    "\n",
    "feature_cols = ['KKR','APO','BLK','CG','NQ','SP500','US10','WTI','APO_POL','BLK_POL','CG_POL','KKR_POL']\n",
    "label_col = ['KKR']\n",
    "\n",
    "train = final[:400]\n",
    "validate = final[400:]"
   ]
  },
  {
   "cell_type": "code",
   "execution_count": 18,
   "metadata": {},
   "outputs": [
    {
     "name": "stderr",
     "output_type": "stream",
     "text": [
      "/anaconda2/lib/python2.7/site-packages/ipykernel_launcher.py:2: FutureWarning: Method .as_matrix will be removed in a future version. Use .values instead.\n  \n/anaconda2/lib/python2.7/site-packages/ipykernel_launcher.py:3: FutureWarning: Method .as_matrix will be removed in a future version. Use .values instead.\n  This is separate from the ipykernel package so we can avoid doing imports until\n"
     ]
    }
   ],
   "source": [
    "### Normalizing features\n",
    "train_data = train[feature_cols].as_matrix().astype(np.float)\n",
    "validate_data = validate[feature_cols].as_matrix().astype(np.float)\n",
    "\n",
    "scaler = MinMaxScaler()\n",
    "\n",
    "smoothing_window_size = 60\n",
    "\n",
    "for d in range(0,360,smoothing_window_size):\n",
    "    scaler.fit(train_data[d:d+smoothing_window_size,:])\n",
    "    train_data[d:d+smoothing_window_size,:] = scaler.transform(train_data[d:d+smoothing_window_size,:])\n",
    "    \n",
    "scaler.fit(train_data[d+smoothing_window_size:,:])\n",
    "train_data[d+smoothing_window_size:,:] = scaler.transform(train_data[d+smoothing_window_size:,:])\n",
    "norm_validate = scaler.transform(validate_data)\n",
    "\n",
    "train_norm = train_data\n",
    "validate_norm = norm_validate\n",
    "\n",
    "train = final[:400]\n",
    "validate = final[400:]"
   ]
  },
  {
   "cell_type": "code",
   "execution_count": 19,
   "metadata": {
    "collapsed": true
   },
   "outputs": [],
   "source": [
    "time_steps = 3\n",
    "\n",
    "x = train_norm[:,1:]\n",
    "y = train_norm[:,0]\n",
    "norm_train_denoised = []\n",
    "dwt = np.zeros((len(x), x.shape[1]))\n",
    "\n",
    "z = validate_norm[:,1:]\n",
    "w = validate_norm[:,0]\n",
    "norm_val = []\n",
    "z_trans = np.zeros((len(z), z.shape[1]))\n",
    "\n",
    "for i in range(x.shape[1]):\n",
    "    (ca, cd) = pywt.dwt(x[:,i], 'haar')\n",
    "    cat = pywt.threshold(ca, np.std(ca)/2, mode='soft')\n",
    "    cdt = pywt.threshold(cd, np.std(cd)/2, mode='soft')\n",
    "    dwt[:,i] = pywt.idwt(cat, cdt, 'haar')\n",
    "    z_trans[:,i] = z[:,i]\n",
    "\n",
    "for i in range(len(dwt)-time_steps-1):\n",
    "    x_temp = dwt[i:(i+time_steps),:]\n",
    "    y_temp = y[i+time_steps+1]\n",
    "    norm_train_denoised.append([x_temp, y_temp])\n",
    "    \n",
    "for i in range(len(z_trans)-time_steps-1):\n",
    "    z_temp = z_trans[i:(i+time_steps),:]\n",
    "    w_temp = w[i+time_steps+1]\n",
    "    norm_val.append([z_temp,w_temp])"
   ]
  },
  {
   "cell_type": "code",
   "execution_count": 20,
   "metadata": {
    "collapsed": false
   },
   "outputs": [
    {
     "name": "stderr",
     "output_type": "stream",
     "text": [
      "/anaconda2/lib/python2.7/site-packages/ipykernel_launcher.py:11: FutureWarning: Method .as_matrix will be removed in a future version. Use .values instead.\n  # This is added back by InteractiveShellApp.init_path()\n/anaconda2/lib/python2.7/site-packages/matplotlib/cbook/deprecation.py:107: MatplotlibDeprecationWarning: Passing one of 'on', 'true', 'off', 'false' as a boolean is deprecated; use an actual boolean (True/False) instead.\n  warnings.warn(message, mplDeprecation, stacklevel=1)\n"
     ]
    },
    {
     "data": {
      "image/png": "[encoded data removed]",
      "text/plain": [
       "<Figure size 432x288 with 2 Axes>"
      ]
     },
     "metadata": {},
     "output_type": "display_data"
    }
   ],
   "source": [
    "### Smoothing of the data using discrete wavelet transformation\n",
    "plt.close('all')\n",
    "\n",
    "fig, ax1 = plt.subplots()\n",
    "\n",
    "plt.plot(x[0:30,0])\n",
    "plt.plot(dwt[0:30,0], 'r')\n",
    "plt.legend(['original signal', 'reconstructed signal'])\n",
    "\n",
    "ax2 = ax1.twinx()\n",
    "plt.plot(train[feature_cols].as_matrix().astype(np.float)[0:30,1], 'y')\n",
    "\n",
    "plt.legend(['Stock Price'])\n",
    "plt.grid('on')\n",
    "plt.show()\n",
    "fig.savefig('fig2.png', dpi=300)"
   ]
  },
  {
   "cell_type": "code",
   "execution_count": 21,
   "metadata": {},
   "outputs": [],
   "source": [
    "### Flattening out the training and validation set for the autoencoder\n",
    "train_ae = np.concatenate([d[0] for d in norm_train_denoised], axis=0)\n",
    "val_ae = np.concatenate([d[0] for d in norm_val], axis=0)"
   ]
  },
  {
   "cell_type": "code",
   "execution_count": 33,
   "metadata": {},
   "outputs": [],
   "source": [
    "### Applying neural autoencoder network to smooth the time series - Architecture\n",
    "# Defining the nodes per layer\n",
    "n_nodes_enc = int(train_ae.shape[1])\n",
    "n_nodes_hid_enc = 10\n",
    "n_nodes_hid_dec = 10\n",
    "n_nodes_dec = int(train_ae.shape[1])\n",
    "\n",
    "# Randomisingly assigning values for biases and weights in the layers\n",
    "hid_1_vals = {\n",
    "    'weights':tf.Variable(tf.random_normal([n_nodes_enc,n_nodes_hid_enc])),\n",
    "    'biases':tf.Variable(tf.random_normal([n_nodes_hid_enc]))}\n",
    "\n",
    "hid_2_vals = {\n",
    "    'weights':tf.Variable(tf.random_normal([n_nodes_hid_enc, n_nodes_hid_dec])),\n",
    "    'biases':tf.Variable(tf.random_normal([n_nodes_hid_dec]))}\n",
    "\n",
    "output_layer_vals = {\n",
    "    'weights':tf.Variable(tf.random_normal([n_nodes_hid_dec,n_nodes_dec])),\n",
    "    'biases':tf.Variable(tf.random_normal([n_nodes_dec]))}\n",
    "\n",
    "# Building the architecture for the neural net\n",
    "input_layer = tf.placeholder('float', [None, 11])\n",
    "\n",
    "layer_1 = tf.nn.sigmoid(\n",
    "    tf.add(tf.matmul(input_layer,hid_1_vals['weights']),\n",
    "           hid_1_vals['biases']))\n",
    "\n",
    "layer_2 = tf.nn.sigmoid(\n",
    "    tf.add(tf.matmul(layer_1,hid_2_vals['weights']),\n",
    "           hid_2_vals['biases']))\n",
    "\n",
    "output_layer = tf.matmul(layer_2,output_layer_vals['weights']) + output_layer_vals['biases']\n",
    "\n",
    "norm_denoised_signal_orig = tf.placeholder('float', [None, 11])\n",
    "\n",
    "meansq = tf.reduce_mean(tf.square(output_layer - norm_denoised_signal_orig))\n",
    "\n",
    "learn_rate = 0.01\n",
    "optimizer = tf.train.AdagradOptimizer(learn_rate).minimize(meansq)"
   ]
  },
  {
   "cell_type": "code",
   "execution_count": 43,
   "metadata": {},
   "outputs": [
    {
     "name": "stdout",
     "output_type": "stream",
     "text": [
      "('Epoch', 999, 1000, 'loss:', 1.295825312845409)\n"
     ]
    }
   ],
   "source": [
    "### Initializing autoencoder to smooth time series\n",
    "\n",
    "init = tf.global_variables_initializer()\n",
    "sess = tf.Session()\n",
    "sess.run(init)\n",
    "\n",
    "batch_size = 30\n",
    "n_epochs = 1000\n",
    "tot_size = 1188\n",
    "\n",
    "for epoch in range(n_epochs):\n",
    "    epoch_loss = 0\n",
    "    \n",
    "    for i in range(int(tot_size//batch_size)):\n",
    "        epoch_x = train_ae[i*batch_size:(i+1)*batch_size]\n",
    "        \n",
    "        _, c = sess.run([optimizer, meansq],feed_dict={input_layer: epoch_x,norm_denoised_signal_orig:epoch_x})\n",
    "        epoch_loss += c\n",
    "        \n",
    "print('Epoch', epoch, n_epochs, 'loss:', epoch_loss)\n"
   ]
  },
  {
   "cell_type": "code",
   "execution_count": 44,
   "metadata": {},
   "outputs": [],
   "source": [
    "train_encoded = sess.run(output_layer, feed_dict={input_layer: train_ae})\n",
    "train_lstm = train_encoded.reshape((int(len(train_encoded)/time_steps), time_steps, train_norm.shape[1]-1))\n",
    "\n",
    "val_encoded = sess.run(output_layer, feed_dict={input_layer: val_ae})\n",
    "val_lstm = val_encoded.reshape((int(len(val_encoded)/time_steps), time_steps, validate_norm.shape[1]-1))\n"
   ]
  },
  {
   "cell_type": "code",
   "execution_count": 46,
   "metadata": {},
   "outputs": [
    {
     "data": {
      "image/png": "[encoded data removed]",
      "text/plain": [
       "<Figure size 432x288 with 1 Axes>"
      ]
     },
     "metadata": {},
     "output_type": "display_data"
    }
   ],
   "source": [
    "### Plotting a brief comparison\n",
    "\n",
    "plt.close('all')\n",
    "\n",
    "fig, ax1 = plt.subplots()\n",
    "\n",
    "plt.plot(dwt[0:120,1])\n",
    "plt.plot(train_lstm[4:124,0,1], 'r')\n",
    "plt.legend(['denoised signal', 'autoencoded signal'])\n",
    "plt.grid('on')\n",
    "plt.show()\n",
    "fig.savefig('fig3.png', dpi=300)"
   ]
  },
  {
   "cell_type": "code",
   "execution_count": 47,
   "metadata": {},
   "outputs": [],
   "source": [
    "### Appening the KKR stock price back to the set\n",
    "data_train = [[x, y[1]] for (x,y) in zip(train_lstm, norm_train_denoised)]\n",
    "data_val = [[x, y[1]] for (x,y) in zip(val_lstm, norm_val)]"
   ]
  },
  {
   "cell_type": "code",
   "execution_count": 48,
   "metadata": {},
   "outputs": [
    {
     "name": "stdout",
     "output_type": "stream",
     "text": [
      "((396, 3, 11), (396,), (96, 3, 11), (96,))\n"
     ]
    }
   ],
   "source": [
    "### Splitting up features and predictor variable\n",
    "\n",
    "train_x = np.array([x[0] for x in data_train])\n",
    "train_y = np.array([y[1] for y in data_train])\n",
    "val_x = np.array([x[0] for x in data_val])\n",
    "val_y = np.array([y[1] for y in data_val])\n",
    "print(train_x.shape, train_y.shape, val_x.shape, val_y.shape)"
   ]
  },
  {
   "cell_type": "code",
   "execution_count": 49,
   "metadata": {},
   "outputs": [
    {
     "name": "stdout",
     "output_type": "stream",
     "text": [
      "Epoch 1/100\n"
     ]
    },
    {
     "name": "stdout",
     "output_type": "stream",
     "text": [
      " - 2s - loss: 0.1170\n"
     ]
    },
    {
     "name": "stdout",
     "output_type": "stream",
     "text": [
      "Epoch 2/100\n - 0s - loss: 0.0620\n"
     ]
    },
    {
     "name": "stdout",
     "output_type": "stream",
     "text": [
      "Epoch 3/100\n"
     ]
    },
    {
     "name": "stdout",
     "output_type": "stream",
     "text": [
      " - 0s - loss: 0.0524\n"
     ]
    },
    {
     "name": "stdout",
     "output_type": "stream",
     "text": [
      "Epoch 4/100\n"
     ]
    },
    {
     "name": "stdout",
     "output_type": "stream",
     "text": [
      " - 0s - loss: 0.0489\n"
     ]
    },
    {
     "name": "stdout",
     "output_type": "stream",
     "text": [
      "Epoch 5/100\n"
     ]
    },
    {
     "name": "stdout",
     "output_type": "stream",
     "text": [
      " - 0s - loss: 0.0490\n"
     ]
    },
    {
     "name": "stdout",
     "output_type": "stream",
     "text": [
      "Epoch 6/100\n"
     ]
    },
    {
     "name": "stdout",
     "output_type": "stream",
     "text": [
      " - 0s - loss: 0.0471\n"
     ]
    },
    {
     "name": "stdout",
     "output_type": "stream",
     "text": [
      "Epoch 7/100\n"
     ]
    },
    {
     "name": "stdout",
     "output_type": "stream",
     "text": [
      " - 0s - loss: 0.0464\n"
     ]
    },
    {
     "name": "stdout",
     "output_type": "stream",
     "text": [
      "Epoch 8/100\n"
     ]
    },
    {
     "name": "stdout",
     "output_type": "stream",
     "text": [
      " - 0s - loss: 0.0462\n"
     ]
    },
    {
     "name": "stdout",
     "output_type": "stream",
     "text": [
      "Epoch 9/100\n"
     ]
    },
    {
     "name": "stdout",
     "output_type": "stream",
     "text": [
      " - 0s - loss: 0.0457\n"
     ]
    },
    {
     "name": "stdout",
     "output_type": "stream",
     "text": [
      "Epoch 10/100\n"
     ]
    },
    {
     "name": "stdout",
     "output_type": "stream",
     "text": [
      " - 0s - loss: 0.0455\n"
     ]
    },
    {
     "name": "stdout",
     "output_type": "stream",
     "text": [
      "Epoch 11/100\n"
     ]
    },
    {
     "name": "stdout",
     "output_type": "stream",
     "text": [
      " - 0s - loss: 0.0449\n"
     ]
    },
    {
     "name": "stdout",
     "output_type": "stream",
     "text": [
      "Epoch 12/100\n"
     ]
    },
    {
     "name": "stdout",
     "output_type": "stream",
     "text": [
      " - 0s - loss: 0.0451\n"
     ]
    },
    {
     "name": "stdout",
     "output_type": "stream",
     "text": [
      "Epoch 13/100\n"
     ]
    },
    {
     "name": "stdout",
     "output_type": "stream",
     "text": [
      " - 0s - loss: 0.0448\n"
     ]
    },
    {
     "name": "stdout",
     "output_type": "stream",
     "text": [
      "Epoch 14/100\n"
     ]
    },
    {
     "name": "stdout",
     "output_type": "stream",
     "text": [
      " - 0s - loss: 0.0440\n"
     ]
    },
    {
     "name": "stdout",
     "output_type": "stream",
     "text": [
      "Epoch 15/100\n"
     ]
    },
    {
     "name": "stdout",
     "output_type": "stream",
     "text": [
      " - 0s - loss: 0.0431\n"
     ]
    },
    {
     "name": "stdout",
     "output_type": "stream",
     "text": [
      "Epoch 16/100\n"
     ]
    },
    {
     "name": "stdout",
     "output_type": "stream",
     "text": [
      " - 0s - loss: 0.0425\n"
     ]
    },
    {
     "name": "stdout",
     "output_type": "stream",
     "text": [
      "Epoch 17/100\n"
     ]
    },
    {
     "name": "stdout",
     "output_type": "stream",
     "text": [
      " - 0s - loss: 0.0422\n"
     ]
    },
    {
     "name": "stdout",
     "output_type": "stream",
     "text": [
      "Epoch 18/100\n"
     ]
    },
    {
     "name": "stdout",
     "output_type": "stream",
     "text": [
      " - 0s - loss: 0.0418\n"
     ]
    },
    {
     "name": "stdout",
     "output_type": "stream",
     "text": [
      "Epoch 19/100\n"
     ]
    },
    {
     "name": "stdout",
     "output_type": "stream",
     "text": [
      " - 0s - loss: 0.0423\n"
     ]
    },
    {
     "name": "stdout",
     "output_type": "stream",
     "text": [
      "Epoch 20/100\n"
     ]
    },
    {
     "name": "stdout",
     "output_type": "stream",
     "text": [
      " - 0s - loss: 0.0406\n"
     ]
    },
    {
     "name": "stdout",
     "output_type": "stream",
     "text": [
      "Epoch 21/100\n"
     ]
    },
    {
     "name": "stdout",
     "output_type": "stream",
     "text": [
      " - 0s - loss: 0.0430\n"
     ]
    },
    {
     "name": "stdout",
     "output_type": "stream",
     "text": [
      "Epoch 22/100\n"
     ]
    },
    {
     "name": "stdout",
     "output_type": "stream",
     "text": [
      " - 0s - loss: 0.0407\n"
     ]
    },
    {
     "name": "stdout",
     "output_type": "stream",
     "text": [
      "Epoch 23/100\n"
     ]
    },
    {
     "name": "stdout",
     "output_type": "stream",
     "text": [
      " - 0s - loss: 0.0416\n"
     ]
    },
    {
     "name": "stdout",
     "output_type": "stream",
     "text": [
      "Epoch 24/100\n"
     ]
    },
    {
     "name": "stdout",
     "output_type": "stream",
     "text": [
      " - 0s - loss: 0.0392\n"
     ]
    },
    {
     "name": "stdout",
     "output_type": "stream",
     "text": [
      "Epoch 25/100\n"
     ]
    },
    {
     "name": "stdout",
     "output_type": "stream",
     "text": [
      " - 0s - loss: 0.0388\n"
     ]
    },
    {
     "name": "stdout",
     "output_type": "stream",
     "text": [
      "Epoch 26/100\n"
     ]
    },
    {
     "name": "stdout",
     "output_type": "stream",
     "text": [
      " - 0s - loss: 0.0388\n"
     ]
    },
    {
     "name": "stdout",
     "output_type": "stream",
     "text": [
      "Epoch 27/100\n"
     ]
    },
    {
     "name": "stdout",
     "output_type": "stream",
     "text": [
      " - 0s - loss: 0.0394\n"
     ]
    },
    {
     "name": "stdout",
     "output_type": "stream",
     "text": [
      "Epoch 28/100\n"
     ]
    },
    {
     "name": "stdout",
     "output_type": "stream",
     "text": [
      " - 0s - loss: 0.0396\n"
     ]
    },
    {
     "name": "stdout",
     "output_type": "stream",
     "text": [
      "Epoch 29/100\n"
     ]
    },
    {
     "name": "stdout",
     "output_type": "stream",
     "text": [
      " - 0s - loss: 0.0383\n"
     ]
    },
    {
     "name": "stdout",
     "output_type": "stream",
     "text": [
      "Epoch 30/100\n"
     ]
    },
    {
     "name": "stdout",
     "output_type": "stream",
     "text": [
      " - 0s - loss: 0.0378\n"
     ]
    },
    {
     "name": "stdout",
     "output_type": "stream",
     "text": [
      "Epoch 31/100\n"
     ]
    },
    {
     "name": "stdout",
     "output_type": "stream",
     "text": [
      " - 0s - loss: 0.0382\n"
     ]
    },
    {
     "name": "stdout",
     "output_type": "stream",
     "text": [
      "Epoch 32/100\n"
     ]
    },
    {
     "name": "stdout",
     "output_type": "stream",
     "text": [
      " - 0s - loss: 0.0391\n"
     ]
    },
    {
     "name": "stdout",
     "output_type": "stream",
     "text": [
      "Epoch 33/100\n"
     ]
    },
    {
     "name": "stdout",
     "output_type": "stream",
     "text": [
      " - 0s - loss: 0.0375\n"
     ]
    },
    {
     "name": "stdout",
     "output_type": "stream",
     "text": [
      "Epoch 34/100\n"
     ]
    },
    {
     "name": "stdout",
     "output_type": "stream",
     "text": [
      " - 0s - loss: 0.0367\n"
     ]
    },
    {
     "name": "stdout",
     "output_type": "stream",
     "text": [
      "Epoch 35/100\n"
     ]
    },
    {
     "name": "stdout",
     "output_type": "stream",
     "text": [
      " - 0s - loss: 0.0368\n"
     ]
    },
    {
     "name": "stdout",
     "output_type": "stream",
     "text": [
      "Epoch 36/100\n"
     ]
    },
    {
     "name": "stdout",
     "output_type": "stream",
     "text": [
      " - 0s - loss: 0.0365\n"
     ]
    },
    {
     "name": "stdout",
     "output_type": "stream",
     "text": [
      "Epoch 37/100\n"
     ]
    },
    {
     "name": "stdout",
     "output_type": "stream",
     "text": [
      " - 0s - loss: 0.0365\n"
     ]
    },
    {
     "name": "stdout",
     "output_type": "stream",
     "text": [
      "Epoch 38/100\n"
     ]
    },
    {
     "name": "stdout",
     "output_type": "stream",
     "text": [
      " - 0s - loss: 0.0385\n"
     ]
    },
    {
     "name": "stdout",
     "output_type": "stream",
     "text": [
      "Epoch 39/100\n"
     ]
    },
    {
     "name": "stdout",
     "output_type": "stream",
     "text": [
      " - 0s - loss: 0.0370\n"
     ]
    },
    {
     "name": "stdout",
     "output_type": "stream",
     "text": [
      "Epoch 40/100\n"
     ]
    },
    {
     "name": "stdout",
     "output_type": "stream",
     "text": [
      " - 0s - loss: 0.0384\n"
     ]
    },
    {
     "name": "stdout",
     "output_type": "stream",
     "text": [
      "Epoch 41/100\n"
     ]
    },
    {
     "name": "stdout",
     "output_type": "stream",
     "text": [
      " - 0s - loss: 0.0384\n"
     ]
    },
    {
     "name": "stdout",
     "output_type": "stream",
     "text": [
      "Epoch 42/100\n"
     ]
    },
    {
     "name": "stdout",
     "output_type": "stream",
     "text": [
      " - 0s - loss: 0.0366\n"
     ]
    },
    {
     "name": "stdout",
     "output_type": "stream",
     "text": [
      "Epoch 43/100\n"
     ]
    },
    {
     "name": "stdout",
     "output_type": "stream",
     "text": [
      " - 0s - loss: 0.0376\n"
     ]
    },
    {
     "name": "stdout",
     "output_type": "stream",
     "text": [
      "Epoch 44/100\n"
     ]
    },
    {
     "name": "stdout",
     "output_type": "stream",
     "text": [
      " - 0s - loss: 0.0400\n"
     ]
    },
    {
     "name": "stdout",
     "output_type": "stream",
     "text": [
      "Epoch 45/100\n"
     ]
    },
    {
     "name": "stdout",
     "output_type": "stream",
     "text": [
      " - 0s - loss: 0.0365\n"
     ]
    },
    {
     "name": "stdout",
     "output_type": "stream",
     "text": [
      "Epoch 46/100\n"
     ]
    },
    {
     "name": "stdout",
     "output_type": "stream",
     "text": [
      " - 0s - loss: 0.0352\n"
     ]
    },
    {
     "name": "stdout",
     "output_type": "stream",
     "text": [
      "Epoch 47/100\n"
     ]
    },
    {
     "name": "stdout",
     "output_type": "stream",
     "text": [
      " - 0s - loss: 0.0375\n"
     ]
    },
    {
     "name": "stdout",
     "output_type": "stream",
     "text": [
      "Epoch 48/100\n"
     ]
    },
    {
     "name": "stdout",
     "output_type": "stream",
     "text": [
      " - 0s - loss: 0.0354\n"
     ]
    },
    {
     "name": "stdout",
     "output_type": "stream",
     "text": [
      "Epoch 49/100\n"
     ]
    },
    {
     "name": "stdout",
     "output_type": "stream",
     "text": [
      " - 0s - loss: 0.0366\n"
     ]
    },
    {
     "name": "stdout",
     "output_type": "stream",
     "text": [
      "Epoch 50/100\n"
     ]
    },
    {
     "name": "stdout",
     "output_type": "stream",
     "text": [
      " - 0s - loss: 0.0349\n"
     ]
    },
    {
     "name": "stdout",
     "output_type": "stream",
     "text": [
      "Epoch 51/100\n"
     ]
    },
    {
     "name": "stdout",
     "output_type": "stream",
     "text": [
      " - 0s - loss: 0.0350\n"
     ]
    },
    {
     "name": "stdout",
     "output_type": "stream",
     "text": [
      "Epoch 52/100\n"
     ]
    },
    {
     "name": "stdout",
     "output_type": "stream",
     "text": [
      " - 0s - loss: 0.0351\n"
     ]
    },
    {
     "name": "stdout",
     "output_type": "stream",
     "text": [
      "Epoch 53/100\n"
     ]
    },
    {
     "name": "stdout",
     "output_type": "stream",
     "text": [
      " - 0s - loss: 0.0344\n"
     ]
    },
    {
     "name": "stdout",
     "output_type": "stream",
     "text": [
      "Epoch 54/100\n"
     ]
    },
    {
     "name": "stdout",
     "output_type": "stream",
     "text": [
      " - 0s - loss: 0.0342\n"
     ]
    },
    {
     "name": "stdout",
     "output_type": "stream",
     "text": [
      "Epoch 55/100\n"
     ]
    },
    {
     "name": "stdout",
     "output_type": "stream",
     "text": [
      " - 0s - loss: 0.0357\n"
     ]
    },
    {
     "name": "stdout",
     "output_type": "stream",
     "text": [
      "Epoch 56/100\n"
     ]
    },
    {
     "name": "stdout",
     "output_type": "stream",
     "text": [
      " - 0s - loss: 0.0366\n"
     ]
    },
    {
     "name": "stdout",
     "output_type": "stream",
     "text": [
      "Epoch 57/100\n"
     ]
    },
    {
     "name": "stdout",
     "output_type": "stream",
     "text": [
      " - 0s - loss: 0.0343\n"
     ]
    },
    {
     "name": "stdout",
     "output_type": "stream",
     "text": [
      "Epoch 58/100\n"
     ]
    },
    {
     "name": "stdout",
     "output_type": "stream",
     "text": [
      " - 0s - loss: 0.0354\n"
     ]
    },
    {
     "name": "stdout",
     "output_type": "stream",
     "text": [
      "Epoch 59/100\n"
     ]
    },
    {
     "name": "stdout",
     "output_type": "stream",
     "text": [
      " - 0s - loss: 0.0354\n"
     ]
    },
    {
     "name": "stdout",
     "output_type": "stream",
     "text": [
      "Epoch 60/100\n"
     ]
    },
    {
     "name": "stdout",
     "output_type": "stream",
     "text": [
      " - 0s - loss: 0.0334\n"
     ]
    },
    {
     "name": "stdout",
     "output_type": "stream",
     "text": [
      "Epoch 61/100\n"
     ]
    },
    {
     "name": "stdout",
     "output_type": "stream",
     "text": [
      " - 0s - loss: 0.0344\n"
     ]
    },
    {
     "name": "stdout",
     "output_type": "stream",
     "text": [
      "Epoch 62/100\n"
     ]
    },
    {
     "name": "stdout",
     "output_type": "stream",
     "text": [
      " - 0s - loss: 0.0340\n"
     ]
    },
    {
     "name": "stdout",
     "output_type": "stream",
     "text": [
      "Epoch 63/100\n"
     ]
    },
    {
     "name": "stdout",
     "output_type": "stream",
     "text": [
      " - 0s - loss: 0.0358\n"
     ]
    },
    {
     "name": "stdout",
     "output_type": "stream",
     "text": [
      "Epoch 64/100\n"
     ]
    },
    {
     "name": "stdout",
     "output_type": "stream",
     "text": [
      " - 0s - loss: 0.0330\n"
     ]
    },
    {
     "name": "stdout",
     "output_type": "stream",
     "text": [
      "Epoch 65/100\n"
     ]
    },
    {
     "name": "stdout",
     "output_type": "stream",
     "text": [
      " - 0s - loss: 0.0340\n"
     ]
    },
    {
     "name": "stdout",
     "output_type": "stream",
     "text": [
      "Epoch 66/100\n"
     ]
    },
    {
     "name": "stdout",
     "output_type": "stream",
     "text": [
      " - 0s - loss: 0.0335\n"
     ]
    },
    {
     "name": "stdout",
     "output_type": "stream",
     "text": [
      "Epoch 67/100\n"
     ]
    },
    {
     "name": "stdout",
     "output_type": "stream",
     "text": [
      " - 0s - loss: 0.0341\n"
     ]
    },
    {
     "name": "stdout",
     "output_type": "stream",
     "text": [
      "Epoch 68/100\n"
     ]
    },
    {
     "name": "stdout",
     "output_type": "stream",
     "text": [
      " - 0s - loss: 0.0338\n"
     ]
    },
    {
     "name": "stdout",
     "output_type": "stream",
     "text": [
      "Epoch 69/100\n"
     ]
    },
    {
     "name": "stdout",
     "output_type": "stream",
     "text": [
      " - 0s - loss: 0.0328\n"
     ]
    },
    {
     "name": "stdout",
     "output_type": "stream",
     "text": [
      "Epoch 70/100\n"
     ]
    },
    {
     "name": "stdout",
     "output_type": "stream",
     "text": [
      " - 0s - loss: 0.0342\n"
     ]
    },
    {
     "name": "stdout",
     "output_type": "stream",
     "text": [
      "Epoch 71/100\n"
     ]
    },
    {
     "name": "stdout",
     "output_type": "stream",
     "text": [
      " - 0s - loss: 0.0333\n"
     ]
    },
    {
     "name": "stdout",
     "output_type": "stream",
     "text": [
      "Epoch 72/100\n"
     ]
    },
    {
     "name": "stdout",
     "output_type": "stream",
     "text": [
      " - 0s - loss: 0.0325\n"
     ]
    },
    {
     "name": "stdout",
     "output_type": "stream",
     "text": [
      "Epoch 73/100\n"
     ]
    },
    {
     "name": "stdout",
     "output_type": "stream",
     "text": [
      " - 0s - loss: 0.0323\n"
     ]
    },
    {
     "name": "stdout",
     "output_type": "stream",
     "text": [
      "Epoch 74/100\n"
     ]
    },
    {
     "name": "stdout",
     "output_type": "stream",
     "text": [
      " - 0s - loss: 0.0328\n"
     ]
    },
    {
     "name": "stdout",
     "output_type": "stream",
     "text": [
      "Epoch 75/100\n"
     ]
    },
    {
     "name": "stdout",
     "output_type": "stream",
     "text": [
      " - 0s - loss: 0.0326\n"
     ]
    },
    {
     "name": "stdout",
     "output_type": "stream",
     "text": [
      "Epoch 76/100\n"
     ]
    },
    {
     "name": "stdout",
     "output_type": "stream",
     "text": [
      " - 0s - loss: 0.0325\n"
     ]
    },
    {
     "name": "stdout",
     "output_type": "stream",
     "text": [
      "Epoch 77/100\n"
     ]
    },
    {
     "name": "stdout",
     "output_type": "stream",
     "text": [
      " - 0s - loss: 0.0326\n"
     ]
    },
    {
     "name": "stdout",
     "output_type": "stream",
     "text": [
      "Epoch 78/100\n"
     ]
    },
    {
     "name": "stdout",
     "output_type": "stream",
     "text": [
      " - 0s - loss: 0.0316\n"
     ]
    },
    {
     "name": "stdout",
     "output_type": "stream",
     "text": [
      "Epoch 79/100\n"
     ]
    },
    {
     "name": "stdout",
     "output_type": "stream",
     "text": [
      " - 0s - loss: 0.0317\n"
     ]
    },
    {
     "name": "stdout",
     "output_type": "stream",
     "text": [
      "Epoch 80/100\n"
     ]
    },
    {
     "name": "stdout",
     "output_type": "stream",
     "text": [
      " - 0s - loss: 0.0328\n"
     ]
    },
    {
     "name": "stdout",
     "output_type": "stream",
     "text": [
      "Epoch 81/100\n"
     ]
    },
    {
     "name": "stdout",
     "output_type": "stream",
     "text": [
      " - 0s - loss: 0.0337\n"
     ]
    },
    {
     "name": "stdout",
     "output_type": "stream",
     "text": [
      "Epoch 82/100\n"
     ]
    },
    {
     "name": "stdout",
     "output_type": "stream",
     "text": [
      " - 0s - loss: 0.0324\n"
     ]
    },
    {
     "name": "stdout",
     "output_type": "stream",
     "text": [
      "Epoch 83/100\n"
     ]
    },
    {
     "name": "stdout",
     "output_type": "stream",
     "text": [
      " - 0s - loss: 0.0319\n"
     ]
    },
    {
     "name": "stdout",
     "output_type": "stream",
     "text": [
      "Epoch 84/100\n"
     ]
    },
    {
     "name": "stdout",
     "output_type": "stream",
     "text": [
      " - 0s - loss: 0.0322\n"
     ]
    },
    {
     "name": "stdout",
     "output_type": "stream",
     "text": [
      "Epoch 85/100\n"
     ]
    },
    {
     "name": "stdout",
     "output_type": "stream",
     "text": [
      " - 0s - loss: 0.0323\n"
     ]
    },
    {
     "name": "stdout",
     "output_type": "stream",
     "text": [
      "Epoch 86/100\n"
     ]
    },
    {
     "name": "stdout",
     "output_type": "stream",
     "text": [
      " - 0s - loss: 0.0312\n"
     ]
    },
    {
     "name": "stdout",
     "output_type": "stream",
     "text": [
      "Epoch 87/100\n"
     ]
    },
    {
     "name": "stdout",
     "output_type": "stream",
     "text": [
      " - 0s - loss: 0.0307\n"
     ]
    },
    {
     "name": "stdout",
     "output_type": "stream",
     "text": [
      "Epoch 88/100\n"
     ]
    },
    {
     "name": "stdout",
     "output_type": "stream",
     "text": [
      " - 0s - loss: 0.0304\n"
     ]
    },
    {
     "name": "stdout",
     "output_type": "stream",
     "text": [
      "Epoch 89/100\n"
     ]
    },
    {
     "name": "stdout",
     "output_type": "stream",
     "text": [
      " - 0s - loss: 0.0309\n"
     ]
    },
    {
     "name": "stdout",
     "output_type": "stream",
     "text": [
      "Epoch 90/100\n"
     ]
    },
    {
     "name": "stdout",
     "output_type": "stream",
     "text": [
      " - 0s - loss: 0.0321\n"
     ]
    },
    {
     "name": "stdout",
     "output_type": "stream",
     "text": [
      "Epoch 91/100\n"
     ]
    },
    {
     "name": "stdout",
     "output_type": "stream",
     "text": [
      " - 0s - loss: 0.0368\n"
     ]
    },
    {
     "name": "stdout",
     "output_type": "stream",
     "text": [
      "Epoch 92/100\n"
     ]
    },
    {
     "name": "stdout",
     "output_type": "stream",
     "text": [
      " - 0s - loss: 0.0319\n"
     ]
    },
    {
     "name": "stdout",
     "output_type": "stream",
     "text": [
      "Epoch 93/100\n"
     ]
    },
    {
     "name": "stdout",
     "output_type": "stream",
     "text": [
      " - 0s - loss: 0.0330\n"
     ]
    },
    {
     "name": "stdout",
     "output_type": "stream",
     "text": [
      "Epoch 94/100\n"
     ]
    },
    {
     "name": "stdout",
     "output_type": "stream",
     "text": [
      " - 0s - loss: 0.0352\n"
     ]
    },
    {
     "name": "stdout",
     "output_type": "stream",
     "text": [
      "Epoch 95/100\n"
     ]
    },
    {
     "name": "stdout",
     "output_type": "stream",
     "text": [
      " - 0s - loss: 0.0350\n"
     ]
    },
    {
     "name": "stdout",
     "output_type": "stream",
     "text": [
      "Epoch 96/100\n"
     ]
    },
    {
     "name": "stdout",
     "output_type": "stream",
     "text": [
      " - 0s - loss: 0.0324\n"
     ]
    },
    {
     "name": "stdout",
     "output_type": "stream",
     "text": [
      "Epoch 97/100\n"
     ]
    },
    {
     "name": "stdout",
     "output_type": "stream",
     "text": [
      " - 0s - loss: 0.0315\n"
     ]
    },
    {
     "name": "stdout",
     "output_type": "stream",
     "text": [
      "Epoch 98/100\n"
     ]
    },
    {
     "name": "stdout",
     "output_type": "stream",
     "text": [
      " - 0s - loss: 0.0299\n"
     ]
    },
    {
     "name": "stdout",
     "output_type": "stream",
     "text": [
      "Epoch 99/100\n"
     ]
    },
    {
     "name": "stdout",
     "output_type": "stream",
     "text": [
      " - 0s - loss: 0.0301\n"
     ]
    },
    {
     "name": "stdout",
     "output_type": "stream",
     "text": [
      "Epoch 100/100\n"
     ]
    },
    {
     "name": "stdout",
     "output_type": "stream",
     "text": [
      " - 0s - loss: 0.0300\n"
     ]
    },
    {
     "data": {
      "text/plain": [
       "<keras.callbacks.History at 0x1a421fc9d0>"
      ]
     },
     "execution_count": 49,
     "metadata": {},
     "output_type": "execute_result"
    }
   ],
   "source": [
    "### Building the model architecture\n",
    "model = Sequential()\n",
    "model.add(LSTM(100, input_shape=(time_steps, 11)))\n",
    "model.add(Dense(1))\n",
    "model.compile(loss='mean_squared_error', optimizer='adam')\n",
    "model.fit(train_x, train_y, epochs = 100, batch_size = 30, verbose = 2)"
   ]
  },
  {
   "cell_type": "code",
   "execution_count": 64,
   "metadata": {},
   "outputs": [
    {
     "name": "stdout",
     "output_type": "stream",
     "text": [
      "Train score: 0.17 RMSE\nValidation score: 0.73 RMSE\n"
     ]
    }
   ],
   "source": [
    "### Building the LSTM network\n",
    "\n",
    "train_preds = model.predict(train_x)\n",
    "val_preds = model.predict(val_x)\n",
    "\n",
    "# train_preds_inv = scaler.inverse_transform(train_preds)\n",
    "# train_y_inv = scaler.inverse_transform([train_y])\n",
    "# val_preds_inv = scaler.inverse_transform([val_preds])\n",
    "\n",
    "train_score = math.sqrt(mean_squared_error(train_y, train_preds))\n",
    "print('Train score: %.2f RMSE' % (train_score))\n",
    "val_score = math.sqrt(mean_squared_error(val_y, val_preds))\n",
    "print('Validation score: %.2f RMSE' % (val_score))"
   ]
  },
  {
   "cell_type": "code",
   "execution_count": 103,
   "metadata": {},
   "outputs": [
    {
     "data": {
      "image/png": "[encoded data removed]",
      "text/plain": [
       "<Figure size 432x288 with 1 Axes>"
      ]
     },
     "metadata": {},
     "output_type": "display_data"
    }
   ],
   "source": [
    "plt.plot(train_norm[3:,0])\n",
    "plt.plot(train_preds, 'r')\n",
    "fig.savefig('fig4.png', dpi=300)\n",
    "\n",
    "plt.show()"
   ]
  },
  {
   "cell_type": "code",
   "execution_count": null,
   "metadata": {},
   "outputs": [],
   "source": []
  }
 ],
 "metadata": {
  "kernelspec": {
   "display_name": "Python 2",
   "language": "python",
   "name": "python2"
  },
  "language_info": {
   "codemirror_mode": {
    "name": "ipython",
    "version": 2
   },
   "file_extension": ".py",
   "mimetype": "text/x-python",
   "name": "python",
   "nbconvert_exporter": "python",
   "pygments_lexer": "ipython2",
   "version": "2.7.6"
  }
 },
 "nbformat": 4,
 "nbformat_minor": 0
}
